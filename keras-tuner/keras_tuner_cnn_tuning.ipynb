{
 "cells": [
  {
   "cell_type": "markdown",
   "metadata": {},
   "source": [
    "### Hyperparameter tuning of Deep learning models in Keras"
   ]
  },
  {
   "cell_type": "code",
   "execution_count": 1,
   "metadata": {
    "id": "0Eo3CACN5nJQ"
   },
   "outputs": [],
   "source": [
    "import tensorflow as tf\n",
    "from tensorflow import keras\n",
    "from tensorflow.keras import backend"
   ]
  },
  {
   "cell_type": "code",
   "execution_count": null,
   "metadata": {},
   "outputs": [],
   "source": [
    "# Import libraries for Convolutional network models\n",
    "from tensorflow.keras.layers import Dense, Dropout, Flatten\n",
    "from tensorflow.keras import optimizers\n",
    "from tensorflow.keras.layers import Conv2D, MaxPooling2D"
   ]
  },
  {
   "cell_type": "code",
   "execution_count": 2,
   "metadata": {
    "colab": {
     "base_uri": "https://localhost:8080/"
    },
    "id": "tmY62HZj5soL",
    "outputId": "1ec26797-3390-4b17-caab-d03540b331ee"
   },
   "outputs": [
    {
     "name": "stdout",
     "output_type": "stream",
     "text": [
      "\u001b[?25l\r",
      "\u001b[K     |█████▏                          | 10kB 26.5MB/s eta 0:00:01\r",
      "\u001b[K     |██████████▍                     | 20kB 16.5MB/s eta 0:00:01\r",
      "\u001b[K     |███████████████▋                | 30kB 14.3MB/s eta 0:00:01\r",
      "\u001b[K     |████████████████████▉           | 40kB 13.0MB/s eta 0:00:01\r",
      "\u001b[K     |██████████████████████████      | 51kB 11.6MB/s eta 0:00:01\r",
      "\u001b[K     |███████████████████████████████▎| 61kB 11.8MB/s eta 0:00:01\r",
      "\u001b[K     |████████████████████████████████| 71kB 5.9MB/s \n",
      "\u001b[?25h  Building wheel for keras-tuner (setup.py) ... \u001b[?25l\u001b[?25hdone\n",
      "  Building wheel for terminaltables (setup.py) ... \u001b[?25l\u001b[?25hdone\n"
     ]
    }
   ],
   "source": [
    "!pip install -q -U keras-tuner\n",
    "import kerastuner as kt"
   ]
  },
  {
   "cell_type": "code",
   "execution_count": 3,
   "metadata": {
    "colab": {
     "base_uri": "https://localhost:8080/"
    },
    "id": "asiajd6B5svx",
    "outputId": "9f66bb47-6ea7-4e34-c8fc-2b1b0e8788c4"
   },
   "outputs": [
    {
     "name": "stdout",
     "output_type": "stream",
     "text": [
      "Downloading data from https://storage.googleapis.com/tensorflow/tf-keras-datasets/train-labels-idx1-ubyte.gz\n",
      "32768/29515 [=================================] - 0s 0us/step\n",
      "Downloading data from https://storage.googleapis.com/tensorflow/tf-keras-datasets/train-images-idx3-ubyte.gz\n",
      "26427392/26421880 [==============================] - 0s 0us/step\n",
      "Downloading data from https://storage.googleapis.com/tensorflow/tf-keras-datasets/t10k-labels-idx1-ubyte.gz\n",
      "8192/5148 [===============================================] - 0s 0us/step\n",
      "Downloading data from https://storage.googleapis.com/tensorflow/tf-keras-datasets/t10k-images-idx3-ubyte.gz\n",
      "4423680/4422102 [==============================] - 0s 0us/step\n"
     ]
    }
   ],
   "source": [
    "(img_train, y_train), (img_test, y_test) = keras.datasets.fashion_mnist.load_data()"
   ]
  },
  {
   "cell_type": "code",
   "execution_count": 4,
   "metadata": {
    "id": "xa3c7YN95s4h"
   },
   "outputs": [],
   "source": [
    "# Normalize pixel values between 0 and 1\n",
    "x_train = img_train.astype('float32') / 255.0\n",
    "x_test = img_test.astype('float32') / 255.0\n",
    "\n",
    "img_rows, img_cols = 28, 28\n",
    "if backend.image_data_format() == 'channels_first':\n",
    "    x_train = x_train.reshape(x_train.shape[0], 1, img_rows, img_cols)\n",
    "    x_test = x_test.reshape(x_test.shape[0], 1, img_rows, img_cols)\n",
    "    input_shape = (1, img_rows, img_cols)\n",
    "else:\n",
    "    x_train = x_train.reshape(x_train.shape[0], img_rows, img_cols, 1)\n",
    "    x_test = x_test.reshape(x_test.shape[0], img_rows, img_cols, 1)\n",
    "    input_shape = (img_rows, img_cols, 1)"
   ]
  },
  {
   "cell_type": "code",
   "execution_count": 5,
   "metadata": {
    "id": "7fwQpK2g5s_6"
   },
   "outputs": [],
   "source": [
    "# define the modelef model_builder(hp):\n",
    "  model = keras.Sequential()\n",
    "  model.add(Conv2D(32, kernel_size=(3, 3),activation='relu',input_shape=input_shape,padding='same'))   \n",
    "  # Tune the number of layers for the Conv2D layers\n",
    "  hp_layers = hp.Int('num_layers_conv', min_value = 2, max_value = 10)\n",
    "  for layer in range(hp_layers):\n",
    "        model.add(Conv2D(64, (3, 3), activation='relu',padding='same'))\n",
    "  model.add(MaxPooling2D(pool_size=(2, 2)))\n",
    "  model.add(Flatten())\n",
    "  # Tune the number of units in the first Dense layer\n",
    "  # Choose an optimal value between 64-512\n",
    "  hp_units = hp.Int('units', min_value = 64, max_value = 512)\n",
    "  model.add(Dense(units = hp_units, activation='relu'))\n",
    "  model.add(Dropout(0.2))  \n",
    "  model.add(keras.layers.Dense(units = hp_units, activation = 'relu'))\n",
    "  model.add(keras.layers.Dense(10))\n",
    "\n",
    "  # Tune the learning rate for the optimizer \n",
    "  # Choose an optimal value from 0.01, 0.001, or 0.0001\n",
    "  hp_learning_rate = hp.Choice('learning_rate', values = [1e-2, 1e-3, 1e-4]) \n",
    "\n",
    "  model.compile(optimizer = keras.optimizers.Adam(learning_rate = hp_learning_rate),\n",
    "                loss = keras.losses.SparseCategoricalCrossentropy(from_logits = True), \n",
    "                metrics = ['accuracy'])\n",
    "\n",
    "  return model"
   ]
  },
  {
   "cell_type": "code",
   "execution_count": 6,
   "metadata": {
    "id": "1EeJHded5tJA"
   },
   "outputs": [],
   "source": [
    "# Instantiate the tuner and perform hypertuning\n",
    "tuner = kt.Hyperband(model_builder,\n",
    "                     objective = 'val_accuracy', \n",
    "                     max_epochs = 5,\n",
    "                     factor = 3,\n",
    "                     directory = 'my_dir',\n",
    "                     project_name = 'intro_to_kt')"
   ]
  },
  {
   "cell_type": "code",
   "execution_count": 7,
   "metadata": {
    "colab": {
     "base_uri": "https://localhost:8080/"
    },
    "id": "S2g2WQgc5tdo",
    "outputId": "449b7dfb-fd92-4e6b-8a35-a7699d025692"
   },
   "outputs": [
    {
     "name": "stdout",
     "output_type": "stream",
     "text": [
      "Trial 10 Complete [00h 00m 50s]\n",
      "val_accuracy: 0.9162999987602234\n",
      "\n",
      "Best val_accuracy So Far: 0.9272000193595886\n",
      "Total elapsed time: 00h 08m 47s\n",
      "INFO:tensorflow:Oracle triggered exit\n",
      "CPU times: user 6min 31s, sys: 2min 8s, total: 8min 39s\n",
      "Wall time: 8min 47s\n"
     ]
    }
   ],
   "source": [
    "#Run the hyperparameter search. The arguments for the search method are the same as those used for tf.keras.model.fit in addition to the callback above.\n",
    "%time tuner.search(x_train, y_train, epochs = 5, validation_data = (x_test, y_test))"
   ]
  },
  {
   "cell_type": "code",
   "execution_count": 9,
   "metadata": {
    "id": "XfE18kNP5tid"
   },
   "outputs": [],
   "source": [
    "model = tuner.get_best_models()"
   ]
  },
  {
   "cell_type": "code",
   "execution_count": 10,
   "metadata": {
    "colab": {
     "base_uri": "https://localhost:8080/"
    },
    "id": "PjU7knX15tns",
    "outputId": "1bed1448-9361-4f14-c021-3cac40a06a82"
   },
   "outputs": [
    {
     "name": "stdout",
     "output_type": "stream",
     "text": [
      "Model: \"sequential\"\n",
      "_________________________________________________________________\n",
      "Layer (type)                 Output Shape              Param #   \n",
      "=================================================================\n",
      "conv2d (Conv2D)              (None, 28, 28, 32)        320       \n",
      "_________________________________________________________________\n",
      "conv2d_1 (Conv2D)            (None, 28, 28, 64)        18496     \n",
      "_________________________________________________________________\n",
      "conv2d_2 (Conv2D)            (None, 28, 28, 64)        36928     \n",
      "_________________________________________________________________\n",
      "conv2d_3 (Conv2D)            (None, 28, 28, 64)        36928     \n",
      "_________________________________________________________________\n",
      "conv2d_4 (Conv2D)            (None, 28, 28, 64)        36928     \n",
      "_________________________________________________________________\n",
      "max_pooling2d (MaxPooling2D) (None, 14, 14, 64)        0         \n",
      "_________________________________________________________________\n",
      "flatten (Flatten)            (None, 12544)             0         \n",
      "_________________________________________________________________\n",
      "dense (Dense)                (None, 349)               4378205   \n",
      "_________________________________________________________________\n",
      "dropout (Dropout)            (None, 349)               0         \n",
      "_________________________________________________________________\n",
      "dense_1 (Dense)              (None, 349)               122150    \n",
      "_________________________________________________________________\n",
      "dense_2 (Dense)              (None, 10)                3500      \n",
      "=================================================================\n",
      "Total params: 4,633,455\n",
      "Trainable params: 4,633,455\n",
      "Non-trainable params: 0\n",
      "_________________________________________________________________\n"
     ]
    }
   ],
   "source": [
    "model[0].summary()"
   ]
  },
  {
   "cell_type": "code",
   "execution_count": null,
   "metadata": {
    "id": "QbWAtLWiGZX5"
   },
   "outputs": [],
   "source": []
  }
 ],
 "metadata": {
  "accelerator": "GPU",
  "colab": {
   "collapsed_sections": [],
   "name": "keras_tuner_example-cnn.ipynb",
   "provenance": []
  },
  "kernelspec": {
   "display_name": "Python 3",
   "language": "python",
   "name": "python3"
  },
  "language_info": {
   "codemirror_mode": {
    "name": "ipython",
    "version": 3
   },
   "file_extension": ".py",
   "mimetype": "text/x-python",
   "name": "python",
   "nbconvert_exporter": "python",
   "pygments_lexer": "ipython3",
   "version": "3.7.9"
  }
 },
 "nbformat": 4,
 "nbformat_minor": 1
}
