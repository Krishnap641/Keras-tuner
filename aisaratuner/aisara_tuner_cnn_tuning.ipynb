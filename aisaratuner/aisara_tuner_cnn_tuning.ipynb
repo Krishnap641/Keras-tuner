{
 "cells": [
  {
   "cell_type": "markdown",
   "metadata": {},
   "source": [
    "### Hyperparameter tuning of Deep learning models in Keras"
   ]
  },
  {
   "cell_type": "code",
   "execution_count": 1,
   "metadata": {
    "id": "19voiW9nQKfe"
   },
   "outputs": [],
   "source": [
    "# Import libraries for convolutional network model\n",
    "import tensorflow as tf\n",
    "from tensorflow import keras\n",
    "from tensorflow.keras import backend\n",
    "from keras.utils import to_categorical\n",
    "from tensorflow.keras.layers import Dense, Dropout, Flatten\n",
    "from tensorflow.keras import optimizers\n",
    "from tensorflow.keras.layers import Conv2D, MaxPooling2D"
   ]
  },
  {
   "cell_type": "code",
   "execution_count": 2,
   "metadata": {
    "colab": {
     "base_uri": "https://localhost:8080/"
    },
    "id": "PH-kpeHFR-K0",
    "outputId": "e52ad4ed-f218-4ff5-8ecb-a5ed4635cc3f"
   },
   "outputs": [
    {
     "name": "stdout",
     "output_type": "stream",
     "text": [
      "Collecting aisaratuners\n",
      "  Downloading https://files.pythonhosted.org/packages/0c/b9/ae5c75ee5632a729ff0206ce9d3de17099ec55f06783a17b4008a1818bb3/aisaratuners-1.4.3-py3-none-any.whl\n",
      "Requirement already satisfied: tensorflow>=1.15 in /usr/local/lib/python3.6/dist-packages (from aisaratuners) (2.3.0)\n",
      "Collecting plotly>=4.6.0\n",
      "\u001b[?25l  Downloading https://files.pythonhosted.org/packages/c9/09/315462259ab7b60a3d4b7159233ed700733c87d889755bdc00a9fb46d692/plotly-4.14.1-py2.py3-none-any.whl (13.2MB)\n",
      "\u001b[K     |████████████████████████████████| 13.2MB 248kB/s \n",
      "\u001b[?25hRequirement already satisfied: pandas in /usr/local/lib/python3.6/dist-packages (from aisaratuners) (1.1.5)\n",
      "Requirement already satisfied: requests in /usr/local/lib/python3.6/dist-packages (from aisaratuners) (2.23.0)\n",
      "Requirement already satisfied: numpy in /usr/local/lib/python3.6/dist-packages (from aisaratuners) (1.18.5)\n",
      "Requirement already satisfied: astunparse==1.6.3 in /usr/local/lib/python3.6/dist-packages (from tensorflow>=1.15->aisaratuners) (1.6.3)\n",
      "Requirement already satisfied: protobuf>=3.9.2 in /usr/local/lib/python3.6/dist-packages (from tensorflow>=1.15->aisaratuners) (3.12.4)\n",
      "Requirement already satisfied: termcolor>=1.1.0 in /usr/local/lib/python3.6/dist-packages (from tensorflow>=1.15->aisaratuners) (1.1.0)\n",
      "Requirement already satisfied: gast==0.3.3 in /usr/local/lib/python3.6/dist-packages (from tensorflow>=1.15->aisaratuners) (0.3.3)\n",
      "Requirement already satisfied: absl-py>=0.7.0 in /usr/local/lib/python3.6/dist-packages (from tensorflow>=1.15->aisaratuners) (0.10.0)\n",
      "Requirement already satisfied: wrapt>=1.11.1 in /usr/local/lib/python3.6/dist-packages (from tensorflow>=1.15->aisaratuners) (1.12.1)\n",
      "Requirement already satisfied: grpcio>=1.8.6 in /usr/local/lib/python3.6/dist-packages (from tensorflow>=1.15->aisaratuners) (1.34.0)\n",
      "Requirement already satisfied: tensorflow-estimator<2.4.0,>=2.3.0 in /usr/local/lib/python3.6/dist-packages (from tensorflow>=1.15->aisaratuners) (2.3.0)\n",
      "Requirement already satisfied: keras-preprocessing<1.2,>=1.1.1 in /usr/local/lib/python3.6/dist-packages (from tensorflow>=1.15->aisaratuners) (1.1.2)\n",
      "Requirement already satisfied: google-pasta>=0.1.8 in /usr/local/lib/python3.6/dist-packages (from tensorflow>=1.15->aisaratuners) (0.2.0)\n",
      "Requirement already satisfied: wheel>=0.26 in /usr/local/lib/python3.6/dist-packages (from tensorflow>=1.15->aisaratuners) (0.36.1)\n",
      "Requirement already satisfied: six>=1.12.0 in /usr/local/lib/python3.6/dist-packages (from tensorflow>=1.15->aisaratuners) (1.15.0)\n",
      "Requirement already satisfied: scipy==1.4.1 in /usr/local/lib/python3.6/dist-packages (from tensorflow>=1.15->aisaratuners) (1.4.1)\n",
      "Requirement already satisfied: tensorboard<3,>=2.3.0 in /usr/local/lib/python3.6/dist-packages (from tensorflow>=1.15->aisaratuners) (2.3.0)\n",
      "Requirement already satisfied: opt-einsum>=2.3.2 in /usr/local/lib/python3.6/dist-packages (from tensorflow>=1.15->aisaratuners) (3.3.0)\n",
      "Requirement already satisfied: h5py<2.11.0,>=2.10.0 in /usr/local/lib/python3.6/dist-packages (from tensorflow>=1.15->aisaratuners) (2.10.0)\n",
      "Requirement already satisfied: retrying>=1.3.3 in /usr/local/lib/python3.6/dist-packages (from plotly>=4.6.0->aisaratuners) (1.3.3)\n",
      "Requirement already satisfied: pytz>=2017.2 in /usr/local/lib/python3.6/dist-packages (from pandas->aisaratuners) (2018.9)\n",
      "Requirement already satisfied: python-dateutil>=2.7.3 in /usr/local/lib/python3.6/dist-packages (from pandas->aisaratuners) (2.8.1)\n",
      "Requirement already satisfied: urllib3!=1.25.0,!=1.25.1,<1.26,>=1.21.1 in /usr/local/lib/python3.6/dist-packages (from requests->aisaratuners) (1.24.3)\n",
      "Requirement already satisfied: idna<3,>=2.5 in /usr/local/lib/python3.6/dist-packages (from requests->aisaratuners) (2.10)\n",
      "Requirement already satisfied: chardet<4,>=3.0.2 in /usr/local/lib/python3.6/dist-packages (from requests->aisaratuners) (3.0.4)\n",
      "Requirement already satisfied: certifi>=2017.4.17 in /usr/local/lib/python3.6/dist-packages (from requests->aisaratuners) (2020.12.5)\n",
      "Requirement already satisfied: setuptools in /usr/local/lib/python3.6/dist-packages (from protobuf>=3.9.2->tensorflow>=1.15->aisaratuners) (50.3.2)\n",
      "Requirement already satisfied: tensorboard-plugin-wit>=1.6.0 in /usr/local/lib/python3.6/dist-packages (from tensorboard<3,>=2.3.0->tensorflow>=1.15->aisaratuners) (1.7.0)\n",
      "Requirement already satisfied: werkzeug>=0.11.15 in /usr/local/lib/python3.6/dist-packages (from tensorboard<3,>=2.3.0->tensorflow>=1.15->aisaratuners) (1.0.1)\n",
      "Requirement already satisfied: google-auth-oauthlib<0.5,>=0.4.1 in /usr/local/lib/python3.6/dist-packages (from tensorboard<3,>=2.3.0->tensorflow>=1.15->aisaratuners) (0.4.2)\n",
      "Requirement already satisfied: google-auth<2,>=1.6.3 in /usr/local/lib/python3.6/dist-packages (from tensorboard<3,>=2.3.0->tensorflow>=1.15->aisaratuners) (1.17.2)\n",
      "Requirement already satisfied: markdown>=2.6.8 in /usr/local/lib/python3.6/dist-packages (from tensorboard<3,>=2.3.0->tensorflow>=1.15->aisaratuners) (3.3.3)\n",
      "Requirement already satisfied: requests-oauthlib>=0.7.0 in /usr/local/lib/python3.6/dist-packages (from google-auth-oauthlib<0.5,>=0.4.1->tensorboard<3,>=2.3.0->tensorflow>=1.15->aisaratuners) (1.3.0)\n",
      "Requirement already satisfied: pyasn1-modules>=0.2.1 in /usr/local/lib/python3.6/dist-packages (from google-auth<2,>=1.6.3->tensorboard<3,>=2.3.0->tensorflow>=1.15->aisaratuners) (0.2.8)\n",
      "Requirement already satisfied: rsa<5,>=3.1.4; python_version >= \"3\" in /usr/local/lib/python3.6/dist-packages (from google-auth<2,>=1.6.3->tensorboard<3,>=2.3.0->tensorflow>=1.15->aisaratuners) (4.6)\n",
      "Requirement already satisfied: cachetools<5.0,>=2.0.0 in /usr/local/lib/python3.6/dist-packages (from google-auth<2,>=1.6.3->tensorboard<3,>=2.3.0->tensorflow>=1.15->aisaratuners) (4.1.1)\n",
      "Requirement already satisfied: importlib-metadata; python_version < \"3.8\" in /usr/local/lib/python3.6/dist-packages (from markdown>=2.6.8->tensorboard<3,>=2.3.0->tensorflow>=1.15->aisaratuners) (3.1.1)\n",
      "Requirement already satisfied: oauthlib>=3.0.0 in /usr/local/lib/python3.6/dist-packages (from requests-oauthlib>=0.7.0->google-auth-oauthlib<0.5,>=0.4.1->tensorboard<3,>=2.3.0->tensorflow>=1.15->aisaratuners) (3.1.0)\n",
      "Requirement already satisfied: pyasn1<0.5.0,>=0.4.6 in /usr/local/lib/python3.6/dist-packages (from pyasn1-modules>=0.2.1->google-auth<2,>=1.6.3->tensorboard<3,>=2.3.0->tensorflow>=1.15->aisaratuners) (0.4.8)\n",
      "Requirement already satisfied: zipp>=0.5 in /usr/local/lib/python3.6/dist-packages (from importlib-metadata; python_version < \"3.8\"->markdown>=2.6.8->tensorboard<3,>=2.3.0->tensorflow>=1.15->aisaratuners) (3.4.0)\n",
      "Installing collected packages: plotly, aisaratuners\n",
      "  Found existing installation: plotly 4.4.1\n",
      "    Uninstalling plotly-4.4.1:\n",
      "      Successfully uninstalled plotly-4.4.1\n",
      "Successfully installed aisaratuners-1.4.3 plotly-4.14.1\n"
     ]
    }
   ],
   "source": [
    "!pip install aisaratuners \n",
    "from aisaratuners.aisara_keras_tuner import Hp, HpOptimization"
   ]
  },
  {
   "cell_type": "code",
   "execution_count": 3,
   "metadata": {
    "colab": {
     "base_uri": "https://localhost:8080/"
    },
    "id": "zSMmqA_9Qstk",
    "outputId": "59221dbf-7ca9-4fc6-90e9-71207082a642"
   },
   "outputs": [
    {
     "name": "stdout",
     "output_type": "stream",
     "text": [
      "Downloading data from https://storage.googleapis.com/tensorflow/tf-keras-datasets/train-labels-idx1-ubyte.gz\n",
      "32768/29515 [=================================] - 0s 0us/step\n",
      "Downloading data from https://storage.googleapis.com/tensorflow/tf-keras-datasets/train-images-idx3-ubyte.gz\n",
      "26427392/26421880 [==============================] - 0s 0us/step\n",
      "Downloading data from https://storage.googleapis.com/tensorflow/tf-keras-datasets/t10k-labels-idx1-ubyte.gz\n",
      "8192/5148 [===============================================] - 0s 0us/step\n",
      "Downloading data from https://storage.googleapis.com/tensorflow/tf-keras-datasets/t10k-images-idx3-ubyte.gz\n",
      "4423680/4422102 [==============================] - 0s 0us/step\n"
     ]
    }
   ],
   "source": [
    "(img_train, y_train), (img_test, y_test) = keras.datasets.fashion_mnist.load_data()"
   ]
  },
  {
   "cell_type": "code",
   "execution_count": 4,
   "metadata": {
    "colab": {
     "base_uri": "https://localhost:8080/"
    },
    "id": "GUNii-57doxb",
    "outputId": "e1908f10-bf2e-4f6e-8594-9ca02cc5520b"
   },
   "outputs": [
    {
     "data": {
      "text/plain": [
       "array([9, 2, 1, ..., 8, 1, 5], dtype=uint8)"
      ]
     },
     "execution_count": 4,
     "metadata": {
      "tags": []
     },
     "output_type": "execute_result"
    }
   ],
   "source": [
    "y_test"
   ]
  },
  {
   "cell_type": "code",
   "execution_count": 5,
   "metadata": {
    "id": "nwUxgShPQs4q"
   },
   "outputs": [],
   "source": [
    "# Normalize pixel values between 0 and 1\n",
    "x_train = img_train.astype('float32') / 255.0\n",
    "x_test = img_test.astype('float32') / 255.0\n",
    "\n",
    "img_rows, img_cols = 28, 28\n",
    "if backend.image_data_format() == 'channels_first':\n",
    "    x_train = x_train.reshape(x_train.shape[0], 1, img_rows, img_cols)\n",
    "    x_test = x_test.reshape(x_test.shape[0], 1, img_rows, img_cols)\n",
    "    input_shape = (1, img_rows, img_cols)\n",
    "else:\n",
    "    x_train = x_train.reshape(x_train.shape[0], img_rows, img_cols, 1)\n",
    "    x_test = x_test.reshape(x_test.shape[0], img_rows, img_cols, 1)\n",
    "    input_shape = (img_rows, img_cols, 1)"
   ]
  },
  {
   "cell_type": "code",
   "execution_count": 6,
   "metadata": {
    "id": "2FyWhsPRMGsp"
   },
   "outputs": [],
   "source": [
    "y_train=to_categorical(y_train,)\n",
    "y_test=to_categorical(y_test)"
   ]
  },
  {
   "cell_type": "code",
   "execution_count": 7,
   "metadata": {
    "id": "5cybFl8vQtCM"
   },
   "outputs": [],
   "source": [
    "# define Hps:\n",
    "hps = Hp()\n",
    "hp_1 = hps.numrange(name='num_layers_conv',min=2,max=10)\n",
    "hp_2 = hps.numrange(name='nodes_dense',min=64,max=512)\n",
    "hp_3 = hps.numrange(name='lr',min=0.0001,max=0.01, type='log')"
   ]
  },
  {
   "cell_type": "code",
   "execution_count": 8,
   "metadata": {
    "id": "FM9xdOe0QtXy"
   },
   "outputs": [],
   "source": [
    "# define keras model and return model history\n",
    "def model_builder(comp, k):\n",
    "    model = keras.Sequential()\n",
    "    model.add(Conv2D(32, kernel_size=(3, 3),activation='relu',input_shape=input_shape,padding='same'))\n",
    "    for layer in range(comp['num_layers_conv'][k]):\n",
    "        model.add(Conv2D(64, (3, 3), activation='relu',padding='same'))\n",
    "    model.add(MaxPooling2D(pool_size=(2, 2)))\n",
    "    model.add(Flatten())\n",
    "    model.add(Dense(comp['nodes_dense'][k], activation='relu'))\n",
    "    model.add(Dropout(0.2))\n",
    "    model.add(Dense(comp['nodes_dense'][k], activation='relu'))\n",
    "    model.add(Dense(10, activation='softmax'))\n",
    "    model.compile(loss='categorical_crossentropy', optimizer=optimizers.Adam(comp['lr'][k]),metrics=['acc'])\n",
    "    history = model.fit(x_train,y_train,epochs=5,validation_data=(x_test,y_test))\n",
    "    return model, history"
   ]
  },
  {
   "cell_type": "code",
   "execution_count": 9,
   "metadata": {
    "colab": {
     "base_uri": "https://localhost:8080/"
    },
    "id": "vPz3MjyTQtdQ",
    "outputId": "7488749d-ecda-4a24-f514-daef2629bd69"
   },
   "outputs": [
    {
     "name": "stdout",
     "output_type": "stream",
     "text": [
      "\u001b[1mFor commercial use, you can obtain our API from https://rapidapi.com/aisara-technology-aisara-technology-default/api/aisara-hyperparameter-tuning\n",
      "If you are a private user, set the mode parameter in HpOptimization class to \"p\".\n",
      "\u001b[0m\n",
      "\u001b[1m\u001b[94mRound-1:\u001b[0m\n",
      "\n",
      "\u001b[1m\u001b[92m  Run-1:\u001b[0m\n",
      "Epoch 1/5\n",
      "   1/1875 [..............................] - ETA: 1s - loss: 2.2995 - acc: 0.0625WARNING:tensorflow:Callbacks method `on_train_batch_end` is slow compared to the batch time (batch time: 0.0042s vs `on_train_batch_end` time: 0.0076s). Check your callbacks.\n",
      "1875/1875 [==============================] - 15s 8ms/step - loss: 0.4502 - acc: 0.8368 - val_loss: 0.3441 - val_acc: 0.8738\n",
      "Epoch 2/5\n",
      "1875/1875 [==============================] - 15s 8ms/step - loss: 0.3303 - acc: 0.8788 - val_loss: 0.3364 - val_acc: 0.8785\n",
      "Epoch 3/5\n",
      "1875/1875 [==============================] - 15s 8ms/step - loss: 0.2968 - acc: 0.8913 - val_loss: 0.3123 - val_acc: 0.8897\n",
      "Epoch 4/5\n",
      "1875/1875 [==============================] - 15s 8ms/step - loss: 0.2647 - acc: 0.9000 - val_loss: 0.2844 - val_acc: 0.8958\n",
      "Epoch 5/5\n",
      "1875/1875 [==============================] - 15s 8ms/step - loss: 0.2509 - acc: 0.9075 - val_loss: 0.3095 - val_acc: 0.8968\n",
      "\n",
      "\u001b[1m\u001b[92m  Run-2:\u001b[0m\n",
      "Epoch 1/5\n",
      "1875/1875 [==============================] - 22s 12ms/step - loss: 0.4625 - acc: 0.8314 - val_loss: 0.3095 - val_acc: 0.8875\n",
      "Epoch 2/5\n",
      "1875/1875 [==============================] - 22s 12ms/step - loss: 0.2754 - acc: 0.9002 - val_loss: 0.2584 - val_acc: 0.9067\n",
      "Epoch 3/5\n",
      "1875/1875 [==============================] - 22s 12ms/step - loss: 0.2214 - acc: 0.9184 - val_loss: 0.2249 - val_acc: 0.9226\n",
      "Epoch 4/5\n",
      "1875/1875 [==============================] - 22s 12ms/step - loss: 0.1782 - acc: 0.9349 - val_loss: 0.2254 - val_acc: 0.9223\n",
      "Epoch 5/5\n",
      "1875/1875 [==============================] - 22s 12ms/step - loss: 0.1455 - acc: 0.9464 - val_loss: 0.2251 - val_acc: 0.9203\n",
      "\n",
      "\u001b[1m\u001b[92m  Run-3:\u001b[0m\n",
      "Epoch 1/5\n",
      "1875/1875 [==============================] - 32s 17ms/step - loss: 0.4145 - acc: 0.8479 - val_loss: 0.3051 - val_acc: 0.8925\n",
      "Epoch 2/5\n",
      "1875/1875 [==============================] - 31s 17ms/step - loss: 0.2619 - acc: 0.9034 - val_loss: 0.2519 - val_acc: 0.9061\n",
      "Epoch 3/5\n",
      "1875/1875 [==============================] - 32s 17ms/step - loss: 0.2155 - acc: 0.9209 - val_loss: 0.2397 - val_acc: 0.9160\n",
      "Epoch 4/5\n",
      "1875/1875 [==============================] - 31s 17ms/step - loss: 0.1807 - acc: 0.9325 - val_loss: 0.2262 - val_acc: 0.9184\n",
      "Epoch 5/5\n",
      "1875/1875 [==============================] - 31s 17ms/step - loss: 0.1545 - acc: 0.9420 - val_loss: 0.2365 - val_acc: 0.9179\n",
      "\u001b[1m\n",
      "\n",
      "search space boundaries:\n",
      "\u001b[0m      num_layers_conv  nodes_dense      lr\n",
      "min                2           64  0.0001\n",
      "max               10          512  0.0100 \n",
      "\n",
      "\u001b[1mhyperparameters combinations (lHC):\n",
      "\u001b[0m  num_layers_conv  nodes_dense        lr\n",
      "               3          437  0.004642\n",
      "               6          139  0.000215\n",
      "               9          288  0.001000 \n",
      "\n",
      "\u001b[1mmodels results:\n",
      "\u001b[0m\u001b[0m  num_layers_conv  nodes_dense        lr      loss       acc  val_loss  val_acc\n",
      "               3          437  0.004642  0.250879  0.907550  0.309501   0.8968\n",
      "               6          139  0.000215  0.145527  0.946367  0.225147   0.9203\n",
      "               9          288  0.001000  0.154465  0.942000  0.236487   0.9179\n",
      "\u001b[1m\n",
      "optimization has ended\u001b[0m\n",
      "CPU times: user 4min 13s, sys: 1min 32s, total: 5min 46s\n",
      "Wall time: 6min 8s\n"
     ]
    }
   ],
   "source": [
    "# run optimizer\n",
    "demo = HpOptimization(hps, model_builder, ['val_acc','val_loss'], ['max','min'], num_trials=3, rounds=1, mode='p')\n",
    "%time demo.run_opti()"
   ]
  },
  {
   "cell_type": "code",
   "execution_count": 10,
   "metadata": {
    "colab": {
     "base_uri": "https://localhost:8080/"
    },
    "id": "Ku6QUj1ZWLEZ",
    "outputId": "03bb1c48-b6b4-4559-d42c-54971fcf7132"
   },
   "outputs": [
    {
     "name": "stdout",
     "output_type": "stream",
     "text": [
      "Model: \"sequential_1\"\n",
      "_________________________________________________________________\n",
      "Layer (type)                 Output Shape              Param #   \n",
      "=================================================================\n",
      "conv2d_4 (Conv2D)            (None, 28, 28, 32)        320       \n",
      "_________________________________________________________________\n",
      "conv2d_5 (Conv2D)            (None, 28, 28, 64)        18496     \n",
      "_________________________________________________________________\n",
      "conv2d_6 (Conv2D)            (None, 28, 28, 64)        36928     \n",
      "_________________________________________________________________\n",
      "conv2d_7 (Conv2D)            (None, 28, 28, 64)        36928     \n",
      "_________________________________________________________________\n",
      "conv2d_8 (Conv2D)            (None, 28, 28, 64)        36928     \n",
      "_________________________________________________________________\n",
      "conv2d_9 (Conv2D)            (None, 28, 28, 64)        36928     \n",
      "_________________________________________________________________\n",
      "conv2d_10 (Conv2D)           (None, 28, 28, 64)        36928     \n",
      "_________________________________________________________________\n",
      "max_pooling2d_1 (MaxPooling2 (None, 14, 14, 64)        0         \n",
      "_________________________________________________________________\n",
      "flatten_1 (Flatten)          (None, 12544)             0         \n",
      "_________________________________________________________________\n",
      "dense_3 (Dense)              (None, 139)               1743755   \n",
      "_________________________________________________________________\n",
      "dropout_1 (Dropout)          (None, 139)               0         \n",
      "_________________________________________________________________\n",
      "dense_4 (Dense)              (None, 139)               19460     \n",
      "_________________________________________________________________\n",
      "dense_5 (Dense)              (None, 10)                1400      \n",
      "=================================================================\n",
      "Total params: 1,968,071\n",
      "Trainable params: 1,968,071\n",
      "Non-trainable params: 0\n",
      "_________________________________________________________________\n"
     ]
    }
   ],
   "source": [
    "demo.best_model.summary()"
   ]
  },
  {
   "cell_type": "code",
   "execution_count": 10,
   "metadata": {
    "id": "XduJjQEwQtlB"
   },
   "outputs": [],
   "source": []
  },
  {
   "cell_type": "code",
   "execution_count": 10,
   "metadata": {
    "id": "SFhE0XDfQtpO"
   },
   "outputs": [],
   "source": []
  }
 ],
 "metadata": {
  "accelerator": "GPU",
  "colab": {
   "collapsed_sections": [],
   "name": "aisara_example-cnn.ipynb",
   "provenance": []
  },
  "kernelspec": {
   "display_name": "Python 3",
   "language": "python",
   "name": "python3"
  },
  "language_info": {
   "codemirror_mode": {
    "name": "ipython",
    "version": 3
   },
   "file_extension": ".py",
   "mimetype": "text/x-python",
   "name": "python",
   "nbconvert_exporter": "python",
   "pygments_lexer": "ipython3",
   "version": "3.7.9"
  }
 },
 "nbformat": 4,
 "nbformat_minor": 1
}
