{
 "cells": [
  {
   "cell_type": "markdown",
   "metadata": {},
   "source": [
    "### Hyperparameter tuning of Deep learning models in Keras\n",
    "### Pretrained model with aisaratuner"
   ]
  },
  {
   "cell_type": "code",
   "execution_count": null,
   "metadata": {
    "id": "19voiW9nQKfe"
   },
   "outputs": [],
   "source": [
    "import tensorflow as tf\n",
    "from tensorflow import keras\n",
    "from tensorflow.keras import backend\n",
    "from keras import applications\n",
    "import numpy as np\n",
    "from tensorflow.keras.layers import Dense, Dropout, Flatten\n",
    "from tensorflow.keras import optimizers"
   ]
  },
  {
   "cell_type": "code",
   "execution_count": null,
   "metadata": {
    "colab": {
     "base_uri": "https://localhost:8080/"
    },
    "id": "PH-kpeHFR-K0",
    "outputId": "9bde42d0-572c-4e80-fc8a-7c6257ec1b2e"
   },
   "outputs": [
    {
     "name": "stdout",
     "output_type": "stream",
     "text": [
      "Collecting aisaratuners\n",
      "  Downloading https://files.pythonhosted.org/packages/0c/b9/ae5c75ee5632a729ff0206ce9d3de17099ec55f06783a17b4008a1818bb3/aisaratuners-1.4.3-py3-none-any.whl\n",
      "Collecting plotly>=4.6.0\n",
      "\u001b[?25l  Downloading https://files.pythonhosted.org/packages/c9/09/315462259ab7b60a3d4b7159233ed700733c87d889755bdc00a9fb46d692/plotly-4.14.1-py2.py3-none-any.whl (13.2MB)\n",
      "\u001b[K     |████████████████████████████████| 13.2MB 242kB/s \n",
      "\u001b[?25hRequirement already satisfied: requests in /usr/local/lib/python3.6/dist-packages (from aisaratuners) (2.23.0)\n",
      "Requirement already satisfied: pandas in /usr/local/lib/python3.6/dist-packages (from aisaratuners) (1.1.5)\n",
      "Requirement already satisfied: tensorflow>=1.15 in /usr/local/lib/python3.6/dist-packages (from aisaratuners) (2.3.0)\n",
      "Requirement already satisfied: numpy in /usr/local/lib/python3.6/dist-packages (from aisaratuners) (1.18.5)\n",
      "Requirement already satisfied: retrying>=1.3.3 in /usr/local/lib/python3.6/dist-packages (from plotly>=4.6.0->aisaratuners) (1.3.3)\n",
      "Requirement already satisfied: six in /usr/local/lib/python3.6/dist-packages (from plotly>=4.6.0->aisaratuners) (1.15.0)\n",
      "Requirement already satisfied: urllib3!=1.25.0,!=1.25.1,<1.26,>=1.21.1 in /usr/local/lib/python3.6/dist-packages (from requests->aisaratuners) (1.24.3)\n",
      "Requirement already satisfied: idna<3,>=2.5 in /usr/local/lib/python3.6/dist-packages (from requests->aisaratuners) (2.10)\n",
      "Requirement already satisfied: chardet<4,>=3.0.2 in /usr/local/lib/python3.6/dist-packages (from requests->aisaratuners) (3.0.4)\n",
      "Requirement already satisfied: certifi>=2017.4.17 in /usr/local/lib/python3.6/dist-packages (from requests->aisaratuners) (2020.12.5)\n",
      "Requirement already satisfied: pytz>=2017.2 in /usr/local/lib/python3.6/dist-packages (from pandas->aisaratuners) (2018.9)\n",
      "Requirement already satisfied: python-dateutil>=2.7.3 in /usr/local/lib/python3.6/dist-packages (from pandas->aisaratuners) (2.8.1)\n",
      "Requirement already satisfied: tensorflow-estimator<2.4.0,>=2.3.0 in /usr/local/lib/python3.6/dist-packages (from tensorflow>=1.15->aisaratuners) (2.3.0)\n",
      "Requirement already satisfied: keras-preprocessing<1.2,>=1.1.1 in /usr/local/lib/python3.6/dist-packages (from tensorflow>=1.15->aisaratuners) (1.1.2)\n",
      "Requirement already satisfied: opt-einsum>=2.3.2 in /usr/local/lib/python3.6/dist-packages (from tensorflow>=1.15->aisaratuners) (3.3.0)\n",
      "Requirement already satisfied: tensorboard<3,>=2.3.0 in /usr/local/lib/python3.6/dist-packages (from tensorflow>=1.15->aisaratuners) (2.3.0)\n",
      "Requirement already satisfied: astunparse==1.6.3 in /usr/local/lib/python3.6/dist-packages (from tensorflow>=1.15->aisaratuners) (1.6.3)\n",
      "Requirement already satisfied: grpcio>=1.8.6 in /usr/local/lib/python3.6/dist-packages (from tensorflow>=1.15->aisaratuners) (1.34.0)\n",
      "Requirement already satisfied: scipy==1.4.1 in /usr/local/lib/python3.6/dist-packages (from tensorflow>=1.15->aisaratuners) (1.4.1)\n",
      "Requirement already satisfied: termcolor>=1.1.0 in /usr/local/lib/python3.6/dist-packages (from tensorflow>=1.15->aisaratuners) (1.1.0)\n",
      "Requirement already satisfied: gast==0.3.3 in /usr/local/lib/python3.6/dist-packages (from tensorflow>=1.15->aisaratuners) (0.3.3)\n",
      "Requirement already satisfied: absl-py>=0.7.0 in /usr/local/lib/python3.6/dist-packages (from tensorflow>=1.15->aisaratuners) (0.10.0)\n",
      "Requirement already satisfied: wheel>=0.26 in /usr/local/lib/python3.6/dist-packages (from tensorflow>=1.15->aisaratuners) (0.36.1)\n",
      "Requirement already satisfied: google-pasta>=0.1.8 in /usr/local/lib/python3.6/dist-packages (from tensorflow>=1.15->aisaratuners) (0.2.0)\n",
      "Requirement already satisfied: protobuf>=3.9.2 in /usr/local/lib/python3.6/dist-packages (from tensorflow>=1.15->aisaratuners) (3.12.4)\n",
      "Requirement already satisfied: wrapt>=1.11.1 in /usr/local/lib/python3.6/dist-packages (from tensorflow>=1.15->aisaratuners) (1.12.1)\n",
      "Requirement already satisfied: h5py<2.11.0,>=2.10.0 in /usr/local/lib/python3.6/dist-packages (from tensorflow>=1.15->aisaratuners) (2.10.0)\n",
      "Requirement already satisfied: google-auth-oauthlib<0.5,>=0.4.1 in /usr/local/lib/python3.6/dist-packages (from tensorboard<3,>=2.3.0->tensorflow>=1.15->aisaratuners) (0.4.2)\n",
      "Requirement already satisfied: werkzeug>=0.11.15 in /usr/local/lib/python3.6/dist-packages (from tensorboard<3,>=2.3.0->tensorflow>=1.15->aisaratuners) (1.0.1)\n",
      "Requirement already satisfied: setuptools>=41.0.0 in /usr/local/lib/python3.6/dist-packages (from tensorboard<3,>=2.3.0->tensorflow>=1.15->aisaratuners) (50.3.2)\n",
      "Requirement already satisfied: google-auth<2,>=1.6.3 in /usr/local/lib/python3.6/dist-packages (from tensorboard<3,>=2.3.0->tensorflow>=1.15->aisaratuners) (1.17.2)\n",
      "Requirement already satisfied: tensorboard-plugin-wit>=1.6.0 in /usr/local/lib/python3.6/dist-packages (from tensorboard<3,>=2.3.0->tensorflow>=1.15->aisaratuners) (1.7.0)\n",
      "Requirement already satisfied: markdown>=2.6.8 in /usr/local/lib/python3.6/dist-packages (from tensorboard<3,>=2.3.0->tensorflow>=1.15->aisaratuners) (3.3.3)\n",
      "Requirement already satisfied: requests-oauthlib>=0.7.0 in /usr/local/lib/python3.6/dist-packages (from google-auth-oauthlib<0.5,>=0.4.1->tensorboard<3,>=2.3.0->tensorflow>=1.15->aisaratuners) (1.3.0)\n",
      "Requirement already satisfied: pyasn1-modules>=0.2.1 in /usr/local/lib/python3.6/dist-packages (from google-auth<2,>=1.6.3->tensorboard<3,>=2.3.0->tensorflow>=1.15->aisaratuners) (0.2.8)\n",
      "Requirement already satisfied: rsa<5,>=3.1.4; python_version >= \"3\" in /usr/local/lib/python3.6/dist-packages (from google-auth<2,>=1.6.3->tensorboard<3,>=2.3.0->tensorflow>=1.15->aisaratuners) (4.6)\n",
      "Requirement already satisfied: cachetools<5.0,>=2.0.0 in /usr/local/lib/python3.6/dist-packages (from google-auth<2,>=1.6.3->tensorboard<3,>=2.3.0->tensorflow>=1.15->aisaratuners) (4.1.1)\n",
      "Requirement already satisfied: importlib-metadata; python_version < \"3.8\" in /usr/local/lib/python3.6/dist-packages (from markdown>=2.6.8->tensorboard<3,>=2.3.0->tensorflow>=1.15->aisaratuners) (3.1.1)\n",
      "Requirement already satisfied: oauthlib>=3.0.0 in /usr/local/lib/python3.6/dist-packages (from requests-oauthlib>=0.7.0->google-auth-oauthlib<0.5,>=0.4.1->tensorboard<3,>=2.3.0->tensorflow>=1.15->aisaratuners) (3.1.0)\n",
      "Requirement already satisfied: pyasn1<0.5.0,>=0.4.6 in /usr/local/lib/python3.6/dist-packages (from pyasn1-modules>=0.2.1->google-auth<2,>=1.6.3->tensorboard<3,>=2.3.0->tensorflow>=1.15->aisaratuners) (0.4.8)\n",
      "Requirement already satisfied: zipp>=0.5 in /usr/local/lib/python3.6/dist-packages (from importlib-metadata; python_version < \"3.8\"->markdown>=2.6.8->tensorboard<3,>=2.3.0->tensorflow>=1.15->aisaratuners) (3.4.0)\n",
      "Installing collected packages: plotly, aisaratuners\n",
      "  Found existing installation: plotly 4.4.1\n",
      "    Uninstalling plotly-4.4.1:\n",
      "      Successfully uninstalled plotly-4.4.1\n",
      "Successfully installed aisaratuners-1.4.3 plotly-4.14.1\n"
     ]
    }
   ],
   "source": [
    "!pip install aisaratuners \n",
    "from aisaratuners.aisara_keras_tuner import Hp, HpOptimization"
   ]
  },
  {
   "cell_type": "code",
   "execution_count": null,
   "metadata": {
    "colab": {
     "base_uri": "https://localhost:8080/"
    },
    "id": "zSMmqA_9Qstk",
    "outputId": "14dd9398-21c3-4818-e51c-1afae89ce64c"
   },
   "outputs": [
    {
     "name": "stdout",
     "output_type": "stream",
     "text": [
      "Downloading data from https://www.cs.toronto.edu/~kriz/cifar-10-python.tar.gz\n",
      "170500096/170498071 [==============================] - 4s 0us/step\n"
     ]
    }
   ],
   "source": [
    "(img_train, y_train), (img_test, y_test) = keras.datasets.cifar10.load_data()"
   ]
  },
  {
   "cell_type": "code",
   "execution_count": null,
   "metadata": {
    "colab": {
     "base_uri": "https://localhost:8080/"
    },
    "id": "GUNii-57doxb",
    "outputId": "dab6f981-dc31-4e4b-9b01-5fa67f2044da"
   },
   "outputs": [
    {
     "data": {
      "text/plain": [
       "array([[3],\n",
       "       [8],\n",
       "       [8],\n",
       "       ...,\n",
       "       [5],\n",
       "       [1],\n",
       "       [7]], dtype=uint8)"
      ]
     },
     "execution_count": 4,
     "metadata": {
      "tags": []
     },
     "output_type": "execute_result"
    }
   ],
   "source": [
    "y_test"
   ]
  },
  {
   "cell_type": "code",
   "execution_count": null,
   "metadata": {
    "id": "nwUxgShPQs4q"
   },
   "outputs": [],
   "source": [
    "# Normalize pixel values between 0 and 1\n",
    "x_train = img_train.astype('float32') / 255.0\n",
    "x_test = img_test.astype('float32') / 255.0\n",
    "\n",
    "img_rows, img_cols = 32,32\n",
    "if backend.image_data_format() == 'channels_first':\n",
    "    x_train = x_train.reshape(x_train.shape[0], 3, img_rows, img_cols)\n",
    "    x_test = x_test.reshape(x_test.shape[0], 3, img_rows, img_cols)\n",
    "    input_shape = (1, img_rows, img_cols)\n",
    "else:\n",
    "    x_train = x_train.reshape(x_train.shape[0], img_rows, img_cols, 3)\n",
    "    x_test = x_test.reshape(x_test.shape[0], img_rows, img_cols, 3)\n",
    "    input_shape = (img_rows, img_cols, 1)"
   ]
  },
  {
   "cell_type": "code",
   "execution_count": null,
   "metadata": {
    "id": "2FyWhsPRMGsp"
   },
   "outputs": [],
   "source": [
    "from keras.utils import to_categorical\n",
    "y_train=to_categorical(y_train,)\n",
    "y_test=to_categorical(y_test)"
   ]
  },
  {
   "cell_type": "code",
   "execution_count": null,
   "metadata": {
    "id": "5cybFl8vQtCM"
   },
   "outputs": [],
   "source": [
    "# define Hps:\n",
    "hps = Hp()\n",
    "hp_1 = hps.numrange(name='num_layers',min=2,max=10)\n",
    "hp_2 = hps.numrange(name='nodes_dense',min=64,max=512)\n",
    "hp_3 = hps.numrange(name='lr',min=0.0001,max=0.01, type='log')"
   ]
  },
  {
   "cell_type": "code",
   "execution_count": null,
   "metadata": {
    "id": "FM9xdOe0QtXy"
   },
   "outputs": [],
   "source": [
    "# define keras model and return model history\n",
    "\n",
    "def model_builder(comp, k):\n",
    "    base_model = applications.VGG16(weights='imagenet', pooling='avg', include_top=False)\n",
    "    inputs = tf.keras.Input(shape=(32, 32, 3))\n",
    "    x = base_model(inputs)\n",
    "    for i in range(comp['num_layers'][k]):\n",
    "        x = Dense(comp['nodes_dense'][k], activation='relu')(x)\n",
    "    x = Dense(10, activation='softmax')(x) \n",
    "    model = tf.keras.Model(inputs=inputs, outputs=x)\n",
    "    model.compile(loss='categorical_crossentropy', optimizer=optimizers.Adam(comp['lr'][k]),metrics=['acc'])\n",
    "    history = model.fit(x_train,y_train,epochs=5,validation_data=(x_test,y_test))\n",
    "    return model, history"
   ]
  },
  {
   "cell_type": "code",
   "execution_count": null,
   "metadata": {
    "colab": {
     "base_uri": "https://localhost:8080/"
    },
    "id": "vPz3MjyTQtdQ",
    "outputId": "dafc0121-d012-4223-e51d-7fc04ef00011"
   },
   "outputs": [
    {
     "name": "stdout",
     "output_type": "stream",
     "text": [
      "\u001b[1mFor commercial use, you can obtain our API from https://rapidapi.com/aisara-technology-aisara-technology-default/api/aisara-hyperparameter-tuning\n",
      "If you are a private user, set the mode parameter in HpOptimization class to \"p\".\n",
      "\u001b[0m\n",
      "\u001b[1m\u001b[94mRound-1:\u001b[0m\n",
      "\n",
      "\u001b[1m\u001b[92m  Run-1:\u001b[0m\n",
      "Downloading data from https://storage.googleapis.com/tensorflow/keras-applications/vgg16/vgg16_weights_tf_dim_ordering_tf_kernels_notop.h5\n",
      "58892288/58889256 [==============================] - 1s 0us/step\n",
      "Epoch 1/5\n",
      "1563/1563 [==============================] - 33s 21ms/step - loss: 126.4001 - acc: 0.0979 - val_loss: 2.3030 - val_acc: 0.1000\n",
      "Epoch 2/5\n",
      "1563/1563 [==============================] - 32s 21ms/step - loss: 2.3032 - acc: 0.0976 - val_loss: 2.3035 - val_acc: 0.1000\n",
      "Epoch 3/5\n",
      "1563/1563 [==============================] - 32s 21ms/step - loss: 2.3032 - acc: 0.0990 - val_loss: 2.3029 - val_acc: 0.1000\n",
      "Epoch 4/5\n",
      "1563/1563 [==============================] - 32s 21ms/step - loss: 2.3033 - acc: 0.0983 - val_loss: 2.3033 - val_acc: 0.1000\n",
      "Epoch 5/5\n",
      "1563/1563 [==============================] - 33s 21ms/step - loss: 2.3033 - acc: 0.0984 - val_loss: 2.3035 - val_acc: 0.1000\n",
      "\n",
      "\u001b[1m\u001b[92m  Run-2:\u001b[0m\n",
      "Epoch 1/5\n",
      "1563/1563 [==============================] - 32s 21ms/step - loss: 1.1828 - acc: 0.5680 - val_loss: 0.7417 - val_acc: 0.7546\n",
      "Epoch 2/5\n",
      "1563/1563 [==============================] - 32s 21ms/step - loss: 0.6251 - acc: 0.7948 - val_loss: 0.6136 - val_acc: 0.8002\n",
      "Epoch 3/5\n",
      "1563/1563 [==============================] - 32s 20ms/step - loss: 0.4506 - acc: 0.8527 - val_loss: 0.5510 - val_acc: 0.8252\n",
      "Epoch 4/5\n",
      "1563/1563 [==============================] - 32s 21ms/step - loss: 0.3413 - acc: 0.8882 - val_loss: 0.5002 - val_acc: 0.8426\n",
      "Epoch 5/5\n",
      "1563/1563 [==============================] - 32s 20ms/step - loss: 0.2571 - acc: 0.9170 - val_loss: 0.5384 - val_acc: 0.8342\n",
      "\n",
      "\u001b[1m\u001b[92m  Run-3:\u001b[0m\n",
      "Epoch 1/5\n",
      "1563/1563 [==============================] - 34s 22ms/step - loss: 2.3031 - acc: 0.0983 - val_loss: 2.3026 - val_acc: 0.1000\n",
      "Epoch 2/5\n",
      "1563/1563 [==============================] - 33s 21ms/step - loss: 2.3028 - acc: 0.0978 - val_loss: 2.3027 - val_acc: 0.1000\n",
      "Epoch 3/5\n",
      "1563/1563 [==============================] - 33s 21ms/step - loss: 2.3028 - acc: 0.0986 - val_loss: 2.3027 - val_acc: 0.1000\n",
      "Epoch 4/5\n",
      "1563/1563 [==============================] - 34s 22ms/step - loss: 2.3028 - acc: 0.0971 - val_loss: 2.3026 - val_acc: 0.1000\n",
      "Epoch 5/5\n",
      "1563/1563 [==============================] - 33s 21ms/step - loss: 2.3027 - acc: 0.0979 - val_loss: 2.3027 - val_acc: 0.1000\n",
      "\u001b[1m\n",
      "\n",
      "search space boundaries:\n",
      "\u001b[0m      num_layers  nodes_dense      lr\n",
      "min           2           64  0.0001\n",
      "max          10          512  0.0100 \n",
      "\n",
      "\u001b[1mhyperparameters combinations (lHC):\n",
      "\u001b[0m  num_layers  nodes_dense        lr\n",
      "          6          437  0.004642\n",
      "          3          139  0.000215\n",
      "          9          288  0.001000 \n",
      "\n",
      "\u001b[1mmodels results:\n",
      "\u001b[0m\u001b[0m  num_layers  nodes_dense        lr      loss      acc  val_loss  val_acc\n",
      "          6          437  0.004642  2.303271  0.09842  2.303508   0.1000\n",
      "          3          139  0.000215  0.257106  0.91704  0.538377   0.8342\n",
      "          9          288  0.001000  2.302737  0.09794  2.302681   0.1000\n",
      "\u001b[1m\n",
      "optimization has ended\u001b[0m\n",
      "CPU times: user 5min 48s, sys: 1min 44s, total: 7min 33s\n",
      "Wall time: 8min 46s\n"
     ]
    }
   ],
   "source": [
    "# run optimizer\n",
    "demo = HpOptimization(hps, model_builder, ['val_acc','val_loss'], ['max','min'], num_trials=3, rounds=1, mode='p')\n",
    "%time demo.run_opti()"
   ]
  },
  {
   "cell_type": "code",
   "execution_count": null,
   "metadata": {
    "colab": {
     "base_uri": "https://localhost:8080/"
    },
    "id": "Ku6QUj1ZWLEZ",
    "outputId": "7683a8e4-269e-49f6-b59e-83ba02122d7b"
   },
   "outputs": [
    {
     "name": "stdout",
     "output_type": "stream",
     "text": [
      "Model: \"functional_3\"\n",
      "_________________________________________________________________\n",
      "Layer (type)                 Output Shape              Param #   \n",
      "=================================================================\n",
      "input_4 (InputLayer)         [(None, 32, 32, 3)]       0         \n",
      "_________________________________________________________________\n",
      "vgg16 (Functional)           (None, 512)               14714688  \n",
      "_________________________________________________________________\n",
      "dense_7 (Dense)              (None, 139)               71307     \n",
      "_________________________________________________________________\n",
      "dense_8 (Dense)              (None, 139)               19460     \n",
      "_________________________________________________________________\n",
      "dense_9 (Dense)              (None, 139)               19460     \n",
      "_________________________________________________________________\n",
      "dense_10 (Dense)             (None, 10)                1400      \n",
      "=================================================================\n",
      "Total params: 14,826,315\n",
      "Trainable params: 14,826,315\n",
      "Non-trainable params: 0\n",
      "_________________________________________________________________\n"
     ]
    }
   ],
   "source": [
    "demo.best_model.summary()"
   ]
  },
  {
   "cell_type": "code",
   "execution_count": null,
   "metadata": {
    "id": "XduJjQEwQtlB"
   },
   "outputs": [],
   "source": []
  },
  {
   "cell_type": "code",
   "execution_count": null,
   "metadata": {
    "id": "SFhE0XDfQtpO"
   },
   "outputs": [],
   "source": []
  }
 ],
 "metadata": {
  "accelerator": "GPU",
  "colab": {
   "collapsed_sections": [],
   "name": "aisara_tuner_pretrained_tuning.ipynb",
   "provenance": []
  },
  "kernelspec": {
   "display_name": "Python 3",
   "language": "python",
   "name": "python3"
  },
  "language_info": {
   "codemirror_mode": {
    "name": "ipython",
    "version": 3
   },
   "file_extension": ".py",
   "mimetype": "text/x-python",
   "name": "python",
   "nbconvert_exporter": "python",
   "pygments_lexer": "ipython3",
   "version": "3.7.9"
  }
 },
 "nbformat": 4,
 "nbformat_minor": 1
}
