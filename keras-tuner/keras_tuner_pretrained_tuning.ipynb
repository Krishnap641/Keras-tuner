{
 "cells": [
  {
   "cell_type": "markdown",
   "metadata": {},
   "source": [
    "### Hyperparameter tuning of Deep learning models in Keras \n",
    "#Pretrained model with Keras tuner"
   ]
  },
  {
   "cell_type": "code",
   "execution_count": 1,
   "metadata": {
    "id": "DVsWQo8DVNsL"
   },
   "outputs": [],
   "source": [
    "from keras import applications\n",
    "from tensorflow.keras.preprocessing import image\n",
    "from tensorflow.keras.applications.resnet50 import preprocess_input, decode_predictions\n",
    "import numpy as np"
   ]
  },
  {
   "cell_type": "code",
   "execution_count": 2,
   "metadata": {
    "id": "0Eo3CACN5nJQ"
   },
   "outputs": [],
   "source": [
    "import tensorflow as tf\n",
    "from tensorflow import keras\n",
    "from tensorflow.keras import backend\n",
    "from tensorflow.keras.layers import Dense, Dropout, Flatten\n",
    "from tensorflow.keras import optimizers"
   ]
  },
  {
   "cell_type": "code",
   "execution_count": 3,
   "metadata": {
    "colab": {
     "base_uri": "https://localhost:8080/"
    },
    "id": "VLIiyRQ4NJ6W",
    "outputId": "48abdd90-767c-49dd-f980-c4499cdef92b"
   },
   "outputs": [
    {
     "name": "stdout",
     "output_type": "stream",
     "text": [
      "\u001b[?25l\r",
      "\u001b[K     |█████▏                          | 10kB 32.4MB/s eta 0:00:01\r",
      "\u001b[K     |██████████▍                     | 20kB 33.9MB/s eta 0:00:01\r",
      "\u001b[K     |███████████████▋                | 30kB 21.0MB/s eta 0:00:01\r",
      "\u001b[K     |████████████████████▉           | 40kB 24.6MB/s eta 0:00:01\r",
      "\u001b[K     |██████████████████████████      | 51kB 22.7MB/s eta 0:00:01\r",
      "\u001b[K     |███████████████████████████████▎| 61kB 17.0MB/s eta 0:00:01\r",
      "\u001b[K     |████████████████████████████████| 71kB 8.4MB/s \n",
      "\u001b[?25h  Building wheel for keras-tuner (setup.py) ... \u001b[?25l\u001b[?25hdone\n",
      "  Building wheel for terminaltables (setup.py) ... \u001b[?25l\u001b[?25hdone\n"
     ]
    }
   ],
   "source": [
    "!pip install -q -U keras-tuner\n",
    "import kerastuner as kt"
   ]
  },
  {
   "cell_type": "code",
   "execution_count": 7,
   "metadata": {
    "colab": {
     "base_uri": "https://localhost:8080/"
    },
    "id": "c73LL_nXQ2de",
    "outputId": "803442ee-53e6-46f4-9859-ecaa1d182111"
   },
   "outputs": [
    {
     "name": "stdout",
     "output_type": "stream",
     "text": [
      "Downloading data from https://www.cs.toronto.edu/~kriz/cifar-10-python.tar.gz\n",
      "170500096/170498071 [==============================] - 2s 0us/step\n"
     ]
    }
   ],
   "source": [
    "# load CIFAR-10 dataset\n",
    "(img_train, y_train), (img_test, y_test) = keras.datasets.cifar10.load_data()"
   ]
  },
  {
   "cell_type": "code",
   "execution_count": 8,
   "metadata": {
    "id": "hyi1MLXnSg7q"
   },
   "outputs": [],
   "source": [
    "from tensorflow.keras import backend\n",
    "# Normalize pixel values between 0 and 1\n",
    "x_train = img_train.astype('float32') / 255.0\n",
    "x_test = img_test.astype('float32') / 255.0\n",
    "\n",
    "img_rows, img_cols = 32,32\n",
    "if backend.image_data_format() == 'channels_first':\n",
    "    x_train = x_train.reshape(x_train.shape[0], 3, img_rows, img_cols)\n",
    "    x_test = x_test.reshape(x_test.shape[0], 3, img_rows, img_cols)\n",
    "    input_shape = (1, img_rows, img_cols)\n",
    "else:\n",
    "    x_train = x_train.reshape(x_train.shape[0], img_rows, img_cols, 3)\n",
    "    x_test = x_test.reshape(x_test.shape[0], img_rows, img_cols, 3)\n",
    "    input_shape = (img_rows, img_cols, 3)"
   ]
  },
  {
   "cell_type": "code",
   "execution_count": 9,
   "metadata": {
    "id": "Ot6sWWoVK-Nb"
   },
   "outputs": [],
   "source": [
    "# define the model\n",
    "def model_builder(hp):\n",
    "    base_model = applications.VGG16(weights='imagenet', pooling='avg', include_top=False)\n",
    "    inputs = tf.keras.Input(shape=(32, 32, 3))\n",
    "    x = base_model(inputs)\n",
    "    for i in range(hp.Int('num_layers', 2, 20)):\n",
    "        x = Dense(units=hp.Int('units' + str(i), 32, 512, 32), activation='relu')(x)\n",
    "    x = Dense(10, activation='softmax')(x) \n",
    "    model = tf.keras.Model(inputs=inputs, outputs=x)\n",
    "    model.compile(optimizer=keras.optimizers.Adam(hp.Choice('learning_rate', [1e-2, 1e-3, 1e-4])),\n",
    "                  loss='sparse_categorical_crossentropy',\n",
    "                  metrics=['accuracy'])\n",
    "    return model"
   ]
  },
  {
   "cell_type": "code",
   "execution_count": 10,
   "metadata": {
    "colab": {
     "base_uri": "https://localhost:8080/"
    },
    "id": "-BC-H4iPK-eI",
    "outputId": "8e71a8cf-2f89-42f5-eb7f-94ea8c5051e8"
   },
   "outputs": [
    {
     "name": "stdout",
     "output_type": "stream",
     "text": [
      "Downloading data from https://storage.googleapis.com/tensorflow/keras-applications/vgg16/vgg16_weights_tf_dim_ordering_tf_kernels_notop.h5\n",
      "58892288/58889256 [==============================] - 1s 0us/step\n"
     ]
    }
   ],
   "source": [
    "# Instantiate the tuner and perform hypertuning\n",
    "tuner = kt.Hyperband(model_builder,\n",
    "                     objective = 'val_accuracy', \n",
    "                     max_epochs = 5,\n",
    "                     factor = 3,\n",
    "                     directory = 'my_dir',\n",
    "                     project_name = 'intro_to_kt')"
   ]
  },
  {
   "cell_type": "code",
   "execution_count": 11,
   "metadata": {
    "colab": {
     "base_uri": "https://localhost:8080/"
    },
    "id": "S2g2WQgc5tdo",
    "outputId": "11272b1b-41e9-4541-9f90-6c123a14272f"
   },
   "outputs": [
    {
     "name": "stdout",
     "output_type": "stream",
     "text": [
      "Trial 10 Complete [00h 03m 48s]\n",
      "val_accuracy: 0.10000000149011612\n",
      "\n",
      "Best val_accuracy So Far: 0.8266000151634216\n",
      "Total elapsed time: 00h 24m 56s\n",
      "INFO:tensorflow:Oracle triggered exit\n",
      "CPU times: user 15min, sys: 6min 11s, total: 21min 12s\n",
      "Wall time: 24min 56s\n"
     ]
    }
   ],
   "source": [
    "#Run the hyperparameter search. The arguments for the search method are the same as those used for tf.keras.model.fit in addition to the callback above.\n",
    "%time tuner.search(x_train, y_train, epochs = 5, validation_data = (x_test, y_test))"
   ]
  },
  {
   "cell_type": "code",
   "execution_count": 12,
   "metadata": {
    "id": "XfE18kNP5tid"
   },
   "outputs": [],
   "source": [
    "model = tuner.get_best_models()"
   ]
  },
  {
   "cell_type": "code",
   "execution_count": 13,
   "metadata": {
    "colab": {
     "base_uri": "https://localhost:8080/"
    },
    "id": "4X0fUpeoL2dw",
    "outputId": "2370f0ff-a40e-4380-9721-1085442fb809"
   },
   "outputs": [
    {
     "name": "stdout",
     "output_type": "stream",
     "text": [
      "Model: \"functional_1\"\n",
      "_________________________________________________________________\n",
      "Layer (type)                 Output Shape              Param #   \n",
      "=================================================================\n",
      "input_2 (InputLayer)         [(None, 32, 32, 3)]       0         \n",
      "_________________________________________________________________\n",
      "vgg16 (Functional)           (None, 512)               14714688  \n",
      "_________________________________________________________________\n",
      "dense (Dense)                (None, 480)               246240    \n",
      "_________________________________________________________________\n",
      "dense_1 (Dense)              (None, 384)               184704    \n",
      "_________________________________________________________________\n",
      "dense_2 (Dense)              (None, 160)               61600     \n",
      "_________________________________________________________________\n",
      "dense_3 (Dense)              (None, 192)               30912     \n",
      "_________________________________________________________________\n",
      "dense_4 (Dense)              (None, 320)               61760     \n",
      "_________________________________________________________________\n",
      "dense_5 (Dense)              (None, 96)                30816     \n",
      "_________________________________________________________________\n",
      "dense_6 (Dense)              (None, 192)               18624     \n",
      "_________________________________________________________________\n",
      "dense_7 (Dense)              (None, 448)               86464     \n",
      "_________________________________________________________________\n",
      "dense_8 (Dense)              (None, 352)               158048    \n",
      "_________________________________________________________________\n",
      "dense_9 (Dense)              (None, 224)               79072     \n",
      "_________________________________________________________________\n",
      "dense_10 (Dense)             (None, 416)               93600     \n",
      "_________________________________________________________________\n",
      "dense_11 (Dense)             (None, 64)                26688     \n",
      "_________________________________________________________________\n",
      "dense_12 (Dense)             (None, 384)               24960     \n",
      "_________________________________________________________________\n",
      "dense_13 (Dense)             (None, 10)                3850      \n",
      "=================================================================\n",
      "Total params: 15,822,026\n",
      "Trainable params: 15,822,026\n",
      "Non-trainable params: 0\n",
      "_________________________________________________________________\n"
     ]
    }
   ],
   "source": [
    "model[0].summary()"
   ]
  },
  {
   "cell_type": "code",
   "execution_count": 13,
   "metadata": {
    "id": "d9upPYN1L2ku"
   },
   "outputs": [],
   "source": []
  },
  {
   "cell_type": "code",
   "execution_count": 13,
   "metadata": {
    "id": "fkscjpLxL2p2"
   },
   "outputs": [],
   "source": []
  },
  {
   "cell_type": "code",
   "execution_count": 13,
   "metadata": {
    "id": "_0Nkmb2MK0yS"
   },
   "outputs": [],
   "source": []
  },
  {
   "cell_type": "code",
   "execution_count": 13,
   "metadata": {
    "id": "LXilVOAUKoeW"
   },
   "outputs": [],
   "source": []
  }
 ],
 "metadata": {
  "accelerator": "GPU",
  "colab": {
   "name": "keras_tuner_pretrained_tuning.ipynb",
   "provenance": []
  },
  "kernelspec": {
   "display_name": "Python 3",
   "language": "python",
   "name": "python3"
  },
  "language_info": {
   "codemirror_mode": {
    "name": "ipython",
    "version": 3
   },
   "file_extension": ".py",
   "mimetype": "text/x-python",
   "name": "python",
   "nbconvert_exporter": "python",
   "pygments_lexer": "ipython3",
   "version": "3.7.9"
  }
 },
 "nbformat": 4,
 "nbformat_minor": 1
}
